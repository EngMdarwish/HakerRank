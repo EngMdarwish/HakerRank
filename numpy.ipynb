{
  "nbformat": 4,
  "nbformat_minor": 0,
  "metadata": {
    "colab": {
      "name": "numpy.ipynb",
      "provenance": [],
      "collapsed_sections": [],
      "authorship_tag": "ABX9TyO1h+PZS4iF4n5xxC3bcuYG",
      "include_colab_link": true
    },
    "kernelspec": {
      "name": "python3",
      "display_name": "Python 3"
    },
    "language_info": {
      "name": "python"
    }
  },
  "cells": [
    {
      "cell_type": "markdown",
      "metadata": {
        "id": "view-in-github",
        "colab_type": "text"
      },
      "source": [
        "<a href=\"https://colab.research.google.com/github/EngMdarwish/HakerRank/blob/main/numpy.ipynb\" target=\"_parent\"><img src=\"https://colab.research.google.com/assets/colab-badge.svg\" alt=\"Open In Colab\"/></a>"
      ]
    },
    {
      "cell_type": "markdown",
      "metadata": {
        "id": "5y3euezwv8P7"
      },
      "source": [
        "**1- Shape and Reshape**\n",
        "You are given a space separated list of nine integers. Your task is to convert this list into a 3X3 NumPy array."
      ]
    },
    {
      "cell_type": "code",
      "metadata": {
        "colab": {
          "base_uri": "https://localhost:8080/"
        },
        "id": "qFxnB59Fvery",
        "outputId": "b5816e88-d0cf-47af-874e-9c2b1d0f9ed3"
      },
      "source": [
        "import numpy as np\n",
        "if __name__ == '__main__':\n",
        "  try:\n",
        "    _input=list(map(int, input().split()))\n",
        "    if len(_input)==9:\n",
        "      x=np.array(_input)\n",
        "      y=np.reshape(x,(3,3))\n",
        "      print(y)\n",
        "    else:\n",
        "      print('Please enter 9 integers')\n",
        "  \n",
        "  except :\n",
        "    print('Please Enter valid nine integers')"
      ],
      "execution_count": 9,
      "outputs": [
        {
          "output_type": "stream",
          "name": "stdout",
          "text": [
            "1 2 3 4 5 6 7 8 9\n",
            "[[1 2 3]\n",
            " [4 5 6]\n",
            " [7 8 9]]\n"
          ]
        }
      ]
    },
    {
      "cell_type": "markdown",
      "metadata": {
        "id": "-cRBcgSEzBbB"
      },
      "source": [
        "**2- Transpose and Flatten**\n",
        "You are given a nXm integer array matrix with space separated elements ( n= rows and  m= columns).\n",
        "Your task is to print the transpose and flatten results."
      ]
    },
    {
      "cell_type": "markdown",
      "metadata": {
        "id": "wrPHKJBNzUD_"
      },
      "source": [
        "The first line contains the space separated values of N  and M.\n",
        "The next N lines contains the space separated elements of M columns."
      ]
    },
    {
      "cell_type": "code",
      "metadata": {
        "colab": {
          "base_uri": "https://localhost:8080/"
        },
        "id": "0Gd57CYrxmc8",
        "outputId": "4484e6df-2d28-4907-863f-d7c059128369"
      },
      "source": [
        "import numpy as np\n",
        "if __name__ == '__main__':\n",
        "  try:\n",
        "    n,m=map(int,input().split())\n",
        "    arr=np.array([input().split() for i in range(n)],dtype=np.int64)\n",
        "    print(arr.transpose())\n",
        "    print(arr.flatten())\n",
        "  except ValueError as e:\n",
        "    print(e)\n",
        "\n",
        "  "
      ],
      "execution_count": 39,
      "outputs": [
        {
          "output_type": "stream",
          "name": "stdout",
          "text": [
            "2 2\n",
            "1 2\n",
            "3 4\n",
            "[[1 3]\n",
            " [2 4]]\n",
            "[1 2 3 4]\n"
          ]
        }
      ]
    },
    {
      "cell_type": "markdown",
      "metadata": {
        "id": "FxMegx7Y_Tl7"
      },
      "source": [
        "**3- Concatenate**\n",
        "You are given two integer arrays of size NXP and MXP (N & N are rows, and P is the column). Your task is to concatenate the arrays along axis 0 .\n",
        "\n",
        "Input Format\n",
        "\n",
        "The first line contains space separated integers N,M  and P.\n",
        "The next N lines contains the space separated elements of the P columns.\n",
        "After that, the next M lines contains the space separated elements of the  P columns.\n",
        "\n",
        "Output Format\n",
        "\n",
        "Print the concatenated array of size(N+M) X P."
      ]
    },
    {
      "cell_type": "code",
      "metadata": {
        "colab": {
          "base_uri": "https://localhost:8080/"
        },
        "id": "bbTnqp6Oz8q7",
        "outputId": "6c01631a-d7ae-4336-b23e-34dbf1f53096"
      },
      "source": [
        "import numpy as np\n",
        "if __name__ == '__main__':\n",
        "  try:\n",
        "    n,m,p=map(int,input().split())\n",
        "    arr1=np.array([input().split() for i in range(n)],dtype=np.int64)\n",
        "    arr2=np.array([input().split() for i in range(m)],dtype=np.int64)\n",
        "    arr=np.concatenate((arr1,arr2),axis=0)\n",
        "    print(arr)\n",
        "  except ValueError as e:\n",
        "    print(e)\n",
        "\n"
      ],
      "execution_count": 41,
      "outputs": [
        {
          "output_type": "stream",
          "name": "stdout",
          "text": [
            "4 3 2\n",
            "1 2\n",
            "1 2\n",
            "1 2\n",
            "1 2\n",
            "3 4\n",
            "3 4\n",
            "3 4\n",
            "[[1 2]\n",
            " [1 2]\n",
            " [1 2]\n",
            " [1 2]\n",
            " [3 4]\n",
            " [3 4]\n",
            " [3 4]]\n"
          ]
        }
      ]
    },
    {
      "cell_type": "markdown",
      "metadata": {
        "id": "8LTNkgpVB0__"
      },
      "source": [
        "**4- Zeros and Ones**\n",
        "You are given the shape of the array in the form of space-separated integers, each integer representing the size of different dimensions, your task is to print an array of the given shape and integer type using the tools numpy.zeros and numpy.ones.\n",
        "\n",
        "Input Format\n",
        "\n",
        "A single line containing the space-separated integers.\n",
        "\n",
        "Constraints\n",
        "\n",
        "1<= eachintteger <=3\n",
        "\n",
        "Output Format\n",
        "\n",
        "First, print the array using the numpy.zeros tool and then print the array with the numpy.ones tool."
      ]
    },
    {
      "cell_type": "code",
      "metadata": {
        "colab": {
          "base_uri": "https://localhost:8080/"
        },
        "id": "SxDIHGiMAR1s",
        "outputId": "1d5fe104-57a8-460a-9725-67d40ecff548"
      },
      "source": [
        "import numpy as np\n",
        "if __name__ == '__main__':\n",
        "  try:\n",
        "    t=tuple(map(int,input().split()))\n",
        "    if 1<=t[0]<=3 and 1<=t[1]<=3 and 1<=t[1]<=3:\n",
        "      arr1=np.zeros(t,dtype=np.int)\n",
        "      arr2=np.ones(t,dtype=np.int)\n",
        "      print(arr1)\n",
        "      print(arr2)\n",
        "    else:\n",
        "      print('1<= eachinteger <=3')\n",
        "  except ValueError as e:\n",
        "    print(e)"
      ],
      "execution_count": 61,
      "outputs": [
        {
          "output_type": "stream",
          "name": "stdout",
          "text": [
            "3 3 3\n",
            "[[[0 0 0]\n",
            "  [0 0 0]\n",
            "  [0 0 0]]\n",
            "\n",
            " [[0 0 0]\n",
            "  [0 0 0]\n",
            "  [0 0 0]]\n",
            "\n",
            " [[0 0 0]\n",
            "  [0 0 0]\n",
            "  [0 0 0]]]\n",
            "[[[1 1 1]\n",
            "  [1 1 1]\n",
            "  [1 1 1]]\n",
            "\n",
            " [[1 1 1]\n",
            "  [1 1 1]\n",
            "  [1 1 1]]\n",
            "\n",
            " [[1 1 1]\n",
            "  [1 1 1]\n",
            "  [1 1 1]]]\n"
          ]
        }
      ]
    },
    {
      "cell_type": "markdown",
      "metadata": {
        "id": "2xgP5XXVLWSG"
      },
      "source": [
        "**5- Eye and Identity**\n",
        "\n",
        "Task\n",
        "\n",
        "Your task is to print an array of size NXM with its main diagonal elements as 1's and 0's everywhere else.\n",
        "\n",
        "\n",
        "\n",
        "Input Format\n",
        "\n",
        "A single line containing the space separated values of N and M.\n",
        "N denotes the rows.\n",
        "M denotes the columns.\n",
        "\n",
        "Output Format\n",
        "\n",
        "Print the desired NXM array.\n"
      ]
    },
    {
      "cell_type": "code",
      "metadata": {
        "colab": {
          "base_uri": "https://localhost:8080/"
        },
        "id": "M4TeHXJQCmJY",
        "outputId": "ca5fa61e-ee85-4986-9c2b-e4f69f8f007d"
      },
      "source": [
        "import numpy as np\n",
        "if __name__ == '__main__':\n",
        "  try:\n",
        "    n , m=map(int,input().split())\n",
        "    np.set_printoptions(legacy='1.13')\n",
        "    print(np.eye(n,m,k=0))\n",
        "  except ValueError as e:\n",
        "    print(e)"
      ],
      "execution_count": 64,
      "outputs": [
        {
          "output_type": "stream",
          "name": "stdout",
          "text": [
            "3 3\n",
            "[[1. 0. 0.]\n",
            " [0. 1. 0.]\n",
            " [0. 0. 1.]]\n"
          ]
        }
      ]
    },
    {
      "cell_type": "markdown",
      "metadata": {
        "id": "94RuJmbvS2M-"
      },
      "source": [
        "**6- Array Mathematics**\n",
        "You are given two integer arrays,  A and B  of dimensions NXM.\n",
        "Your task is to perform the following operations:\n",
        "\n",
        "Add \n",
        "Subtract \n",
        "Multiply \n",
        "Integer Division \n",
        "Mod \n",
        "Power "
      ]
    },
    {
      "cell_type": "code",
      "metadata": {
        "colab": {
          "base_uri": "https://localhost:8080/"
        },
        "id": "lUpwkeQGPetM",
        "outputId": "6fd747c1-df1b-4dac-979e-814424d816b2"
      },
      "source": [
        "import numpy as np\n",
        "if __name__ == '__main__':\n",
        "  try:\n",
        "    n,m = map(int,input().split())\n",
        "    a,b=(np.array([input().split() for i in range(n)],dtype=np.int64) for t in range(2))\n",
        "    print(\"{}\\n{}\\n{}\\n{}\\n{}\\n{}\".format(a+b,a-b,a*b, a//b,a%b,a**b))\n",
        "  except ValueError as e:\n",
        "    print(e)\n",
        "\n"
      ],
      "execution_count": 71,
      "outputs": [
        {
          "output_type": "stream",
          "name": "stdout",
          "text": [
            "1 4\n",
            "1 2 3 4\n",
            "5 6 7 8\n",
            "[[ 6  8 10 12]]\n",
            "[[-4 -4 -4 -4]]\n",
            "[[ 5 12 21 32]]\n",
            "[[0 0 0 0]]\n",
            "[[1 2 3 4]]\n",
            "[[    1    64  2187 65536]]\n"
          ]
        }
      ]
    }
  ]
}